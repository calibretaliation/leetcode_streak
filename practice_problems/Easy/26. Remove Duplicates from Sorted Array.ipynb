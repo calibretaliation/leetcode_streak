{
 "cells": [
  {
   "metadata": {},
   "cell_type": "markdown",
   "source": [
    "# 26. Remove Duplicates from Sorted Array\n",
    "Given an integer array `nums` sorted in non-decreasing order, remove the duplicates in-place such that each unique element appears only once. The relative order of the elements should be kept the same. Then return the number of unique elements in `nums`.\n",
    "\n",
    "Consider the number of unique elements of `nums` to be `k`, to get accepted, you need to do the following things:\n",
    "\n",
    "- Change the array `nums` such that the first `k` elements of `nums` contain the unique elements in the order they were present in nums initially. The remaining elements of `nums` are not important as well as the size of `nums`.\n",
    "- Return `k`.\n",
    "\n",
    "Custom Judge:\n",
    "\n",
    "The judge will test your solution with the following code:\n",
    "\n",
    "```\n",
    "int[] nums = [...]; // Input array\n",
    "int[] expectedNums = [...]; // The expected answer with correct length\n",
    "\n",
    "int k = removeDuplicates(nums); // Calls your implementation\n",
    "\n",
    "assert k == expectedNums.length;\n",
    "for (int i = 0; i < k; i++) {\n",
    "    assert nums[i] == expectedNums[i];\n",
    "}\n",
    "```\n",
    "If all assertions pass, then your solution will be accepted.\n",
    "\n",
    "> Example 1: <br>\n",
    "Input: `nums = [1,1,2]` <br>\n",
    "Output: `2`, `nums = [1,2,_]` <br>\n",
    "Explanation: Your function should return `k = 2`, with the first two elements of `nums` being `1` and `2` respectively.\n",
    "It does not matter what you leave beyond the returned `k` (hence they are underscores)."
   ],
   "id": "b8782f72c418b028"
  },
  {
   "metadata": {
    "ExecuteTime": {
     "end_time": "2025-02-07T13:23:14.202096Z",
     "start_time": "2025-02-07T13:23:14.194800Z"
    }
   },
   "cell_type": "code",
   "source": [
    "from typing import List\n",
    "\n",
    "class Solution:\n",
    "    def removeDuplicates(self, nums: List[int]) -> int:\n",
    "        # Copy the input list `nums` to safely iterate while modifying the original list\n",
    "        nums_cp = nums.copy()\n",
    "        current = None\n",
    "        # Iterate through the copied list to identify and remove duplicates from the original list\n",
    "        for num in nums_cp:\n",
    "            # If the current number matches the previous number (duplicate), remove it from the list\n",
    "            if num == current:\n",
    "                nums.remove(num)\n",
    "            else:\n",
    "                # Update current with the latest unique number\n",
    "                current = num\n",
    "        # Return the modified list and its new length\n",
    "        return nums, len(nums)"
   ],
   "id": "20153b79b9c720e6",
   "outputs": [],
   "execution_count": 3
  },
  {
   "metadata": {
    "ExecuteTime": {
     "end_time": "2025-02-07T13:23:21.544319Z",
     "start_time": "2025-02-07T13:23:21.539044Z"
    }
   },
   "cell_type": "code",
   "source": [
    "solution = Solution()\n",
    "expected = [1,2]\n",
    "nums = [1,1,2]\n",
    "nums, k = solution.removeDuplicates(nums)\n",
    "assert k == len(expected)\n",
    "for i in range(len(expected)):\n",
    "    print(nums[i])\n",
    "    assert nums[i] == expected[i]"
   ],
   "id": "4018e92b60014e8",
   "outputs": [
    {
     "name": "stdout",
     "output_type": "stream",
     "text": [
      "1\n",
      "2\n"
     ]
    }
   ],
   "execution_count": 5
  },
  {
   "metadata": {
    "ExecuteTime": {
     "end_time": "2025-02-06T13:16:50.951771Z",
     "start_time": "2025-02-06T13:16:50.949270Z"
    }
   },
   "cell_type": "code",
   "source": "",
   "id": "faf49b4dd09f7a05",
   "outputs": [],
   "execution_count": null
  },
  {
   "metadata": {},
   "cell_type": "code",
   "outputs": [],
   "execution_count": null,
   "source": "",
   "id": "dbfb13503a3cb390"
  }
 ],
 "metadata": {
  "kernelspec": {
   "display_name": "Python 3",
   "language": "python",
   "name": "python3"
  },
  "language_info": {
   "codemirror_mode": {
    "name": "ipython",
    "version": 2
   },
   "file_extension": ".py",
   "mimetype": "text/x-python",
   "name": "python",
   "nbconvert_exporter": "python",
   "pygments_lexer": "ipython2",
   "version": "2.7.6"
  }
 },
 "nbformat": 4,
 "nbformat_minor": 5
}
