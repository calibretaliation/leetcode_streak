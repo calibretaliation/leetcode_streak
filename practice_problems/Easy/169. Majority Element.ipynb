{
 "cells": [
  {
   "cell_type": "markdown",
   "metadata": {},
   "source": [
    "# 169. Majority Element\n",
    "\n",
    "Given an array `nums` of size `n`, return the majority element.\n",
    "The majority element is the element that appears more than `⌊n / 2⌋` times. You may assume that the majority element always exists in the array.\n",
    "\n",
    " \n",
    "\n",
    ">Example 1: <br>\n",
    "Input: `nums = [3,2,3]` <br>\n",
    "Output: `3`\n",
    "\n",
    ">Example 2: <br>\n",
    "Input: `nums = [2,2,1,1,1,2,2]` <br>\n",
    "Output: `2`\n",
    "\n",
    " \n",
    "\n",
    "Constraints:\n",
    "\n",
    "    n == nums.length\n",
    "    1 <= n <= 5 * 104\n",
    "    -109 <= nums[i] <= 109\n",
    "\n",
    "Follow-up: Could you solve the problem in linear time and in O(1) space?\n"
   ]
  },
  {
   "cell_type": "code",
   "execution_count": null,
   "metadata": {},
   "outputs": [],
   "source": [
    "from collections import defaultdict\n",
    "from typing import List\n",
    "\n",
    "\n",
    "class Solution:\n",
    "    def majorityElement(self, nums: List[int]) -> int:\n",
    "        count = defaultdict(int)\n",
    "        max_count = 0\n",
    "        major = nums[0]\n",
    "        for num in nums:\n",
    "            if max_count > len(nums)//2:\n",
    "                break\n",
    "            count[num] += 1\n",
    "\n",
    "            if count[num] > max_count:\n",
    "                max_count = count[num]\n",
    "                major = num\n",
    "            \n",
    "        return major"
   ]
  },
  {
   "cell_type": "code",
   "execution_count": 8,
   "metadata": {},
   "outputs": [
    {
     "data": {
      "text/plain": [
       "6"
      ]
     },
     "execution_count": 8,
     "metadata": {},
     "output_type": "execute_result"
    }
   ],
   "source": [
    "nums = [6]\n",
    "solution = Solution()\n",
    "solution.majorityElement(nums)"
   ]
  },
  {
   "cell_type": "code",
   "execution_count": null,
   "metadata": {},
   "outputs": [],
   "source": []
  }
 ],
 "metadata": {
  "kernelspec": {
   "display_name": "venv",
   "language": "python",
   "name": "python3"
  },
  "language_info": {
   "codemirror_mode": {
    "name": "ipython",
    "version": 3
   },
   "file_extension": ".py",
   "mimetype": "text/x-python",
   "name": "python",
   "nbconvert_exporter": "python",
   "pygments_lexer": "ipython3",
   "version": "3.12.3"
  }
 },
 "nbformat": 4,
 "nbformat_minor": 2
}
