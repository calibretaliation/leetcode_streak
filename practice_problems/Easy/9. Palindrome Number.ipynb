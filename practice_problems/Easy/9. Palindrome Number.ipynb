{
 "cells": [
  {
   "metadata": {},
   "cell_type": "markdown",
   "source": [
    "# 9. Palindrome Number\n",
    "\n",
    "Given an integer `x`, return `true` if `x` is a **palindrome**, and `false` otherwise.\n",
    "\n",
    "An integer is a **palindrome** when it reads the same forward and backward.\n",
    "\n",
    "For example, `121` is a palindrome while `123` is not.\n",
    "\n",
    "> Example 1:\n",
    ">\n",
    "> Input: `x = 121`\n",
    ">\n",
    "> Output: `true`\n",
    ">\n",
    "> Explanation: `121` reads as `121` from left to right and from right to left.\n",
    "\n",
    "> Example 2:\n",
    ">\n",
    "> Input: `x = -121`\n",
    ">\n",
    "> Output: `false`\n",
    ">\n",
    "> Explanation: From left to right, it reads `-121`. From right to left, it becomes `121-`. Therefore it is not a palindrome."
   ],
   "id": "1a2ee113561a3dfe"
  },
  {
   "metadata": {
    "ExecuteTime": {
     "end_time": "2025-02-03T14:29:53.515176Z",
     "start_time": "2025-02-03T14:29:53.504270Z"
    }
   },
   "cell_type": "code",
   "source": [
    "class Solution:\n",
    "    def isPalindrome(self, x: int) -> bool:\n",
    "        string_x = str(x)\n",
    "        for i in range(len(string_x)//2):\n",
    "            if string_x[i] != string_x[-i-1]:\n",
    "                return False\n",
    "        return True"
   ],
   "id": "d4474f166e6ba270",
   "outputs": [],
   "execution_count": 1
  },
  {
   "metadata": {
    "ExecuteTime": {
     "end_time": "2025-02-03T14:29:53.534065Z",
     "start_time": "2025-02-03T14:29:53.526271Z"
    }
   },
   "cell_type": "code",
   "source": [
    "solution = Solution()\n",
    "solution.isPalindrome(121)"
   ],
   "id": "36152dba00911175",
   "outputs": [
    {
     "data": {
      "text/plain": [
       "True"
      ]
     },
     "execution_count": 2,
     "metadata": {},
     "output_type": "execute_result"
    }
   ],
   "execution_count": 2
  },
  {
   "metadata": {
    "ExecuteTime": {
     "end_time": "2025-02-03T14:30:04.066811Z",
     "start_time": "2025-02-03T14:30:04.061229Z"
    }
   },
   "cell_type": "code",
   "source": [
    "solution = Solution()\n",
    "solution.isPalindrome(-121)"
   ],
   "id": "2cad3475b98e9e5c",
   "outputs": [
    {
     "data": {
      "text/plain": [
       "False"
      ]
     },
     "execution_count": 3,
     "metadata": {},
     "output_type": "execute_result"
    }
   ],
   "execution_count": 3
  },
  {
   "metadata": {
    "ExecuteTime": {
     "end_time": "2025-02-03T14:30:17.453756Z",
     "start_time": "2025-02-03T14:30:17.447850Z"
    }
   },
   "cell_type": "code",
   "source": [
    "solution = Solution()\n",
    "solution.isPalindrome(12321)"
   ],
   "id": "ebb46a8fefd570b2",
   "outputs": [
    {
     "data": {
      "text/plain": [
       "True"
      ]
     },
     "execution_count": 5,
     "metadata": {},
     "output_type": "execute_result"
    }
   ],
   "execution_count": 5
  },
  {
   "metadata": {},
   "cell_type": "code",
   "outputs": [],
   "execution_count": null,
   "source": "",
   "id": "af387c788c347071"
  }
 ],
 "metadata": {
  "kernelspec": {
   "display_name": "Python 3",
   "language": "python",
   "name": "python3"
  },
  "language_info": {
   "codemirror_mode": {
    "name": "ipython",
    "version": 2
   },
   "file_extension": ".py",
   "mimetype": "text/x-python",
   "name": "python",
   "nbconvert_exporter": "python",
   "pygments_lexer": "ipython2",
   "version": "2.7.6"
  }
 },
 "nbformat": 4,
 "nbformat_minor": 5
}
