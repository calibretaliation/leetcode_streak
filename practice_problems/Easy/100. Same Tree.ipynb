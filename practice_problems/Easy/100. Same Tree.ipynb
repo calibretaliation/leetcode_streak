{
 "cells": [
  {
   "metadata": {},
   "cell_type": "markdown",
   "source": [
    "    # 100. Same Tree\n",
    "Given the roots of two binary trees `p` and `q`, write a function to check if they are the same or not.\n",
    "\n",
    "Two binary trees are considered the same if they are structurally identical, and the nodes have the same value.\n",
    "\n",
    ">Example: <br>\n",
    "Input: `p = [1,2,1]`, `q = [1,1,2]` <br>\n",
    "Output: false\n"
   ],
   "id": "34d0715cf43f2602"
  },
  {
   "metadata": {
    "ExecuteTime": {
     "end_time": "2025-02-11T00:45:12.592911Z",
     "start_time": "2025-02-11T00:45:12.583706Z"
    }
   },
   "cell_type": "code",
   "source": [
    "from typing import Optional\n",
    "\n",
    "\n",
    "# Definition for a binary tree node.\n",
    "class TreeNode:\n",
    "    def __init__(self, val=0, left=None, right=None):\n",
    "        # Initialize the TreeNode with a value and optional left and right children\n",
    "        self.val = val\n",
    "        self.left = left\n",
    "        self.right = right\n",
    "\n",
    "class Solution:\n",
    "    def isSameTree(self, p: Optional[TreeNode], q: Optional[TreeNode]) -> bool:\n",
    "        # If both nodes are None, the trees are the same\n",
    "        if p is None and q is None:\n",
    "            return True\n",
    "        # If both nodes are not None and the values are the same, check subtrees recursively\n",
    "        if p is not None and q is not None and p.val == q.val:\n",
    "            return self.isSameTree(p.left, q.left) and self.isSameTree(p.right, q.right)\n",
    "        else:\n",
    "            # If either one of the nodes is None or values do not match, the trees are not the same\n",
    "            return False"
   ],
   "id": "85c399b01d357b8",
   "outputs": [],
   "execution_count": 15
  },
  {
   "metadata": {
    "ExecuteTime": {
     "end_time": "2025-02-11T00:44:35.270414Z",
     "start_time": "2025-02-11T00:44:35.261531Z"
    }
   },
   "cell_type": "code",
   "source": [
    "solution = Solution()\n",
    "solution.isSameTree(p=TreeNode(1, None,2), q=TreeNode(1,2,1))"
   ],
   "id": "4af57563bc577cc8",
   "outputs": [
    {
     "data": {
      "text/plain": [
       "False"
      ]
     },
     "execution_count": 14,
     "metadata": {},
     "output_type": "execute_result"
    }
   ],
   "execution_count": 14
  },
  {
   "metadata": {},
   "cell_type": "code",
   "outputs": [],
   "execution_count": null,
   "source": "",
   "id": "ca20afb2fe00a0ba"
  }
 ],
 "metadata": {
  "kernelspec": {
   "display_name": "Python 3",
   "language": "python",
   "name": "python3"
  },
  "language_info": {
   "codemirror_mode": {
    "name": "ipython",
    "version": 2
   },
   "file_extension": ".py",
   "mimetype": "text/x-python",
   "name": "python",
   "nbconvert_exporter": "python",
   "pygments_lexer": "ipython2",
   "version": "2.7.6"
  }
 },
 "nbformat": 4,
 "nbformat_minor": 5
}
