{
 "cells": [
  {
   "metadata": {},
   "cell_type": "markdown",
   "source": [
    "### 70. Climbing Stairs\n",
    "\n",
    "You are climbing a staircase. It takes `n` steps to reach the top.\n",
    "\n",
    "Each time you can either climb `1` or `2` steps. In how many distinct ways can you climb to the top?\n",
    "\n",
    "> Example 2: <br>\n",
    "Input: `n = 3`  <br>\n",
    "Output: `3` <br>\n",
    "Explanation: There are three ways to climb to the top. <br>\n",
    "> - 1. 1 step + 1 step + 1 step  <br>\n",
    "> - 2. 1 step + 2 steps <br>\n",
    "> - 3. 2 steps + 1 step <br>\n",
    "\n"
   ],
   "id": "30247eb7dc29546e"
  },
  {
   "metadata": {
    "ExecuteTime": {
     "end_time": "2025-02-19T23:03:54.592346Z",
     "start_time": "2025-02-19T23:03:54.585225Z"
    }
   },
   "cell_type": "code",
   "source": [
    "class Solution:\n",
    "    def climbStairs(self, n: int) -> int:\n",
    "        if n <= 3: return n\n",
    "        n_to_prev = 3\n",
    "        n_to_2_prev = 2\n",
    "        n_to_current = 0\n",
    "        for i in range(3, n):\n",
    "            n_to_current = n_to_prev + n_to_2_prev\n",
    "            n_to_2_prev = n_to_prev\n",
    "            n_to_prev = n_to_current\n",
    "        return n_to_current"
   ],
   "id": "30fc69466f544409",
   "outputs": [],
   "execution_count": 9
  },
  {
   "metadata": {
    "ExecuteTime": {
     "end_time": "2025-02-19T23:04:44.190295Z",
     "start_time": "2025-02-19T23:04:44.180628Z"
    }
   },
   "cell_type": "code",
   "source": [
    "solution = Solution()\n",
    "solution.climbStairs(6)"
   ],
   "id": "7d886a8ce9db0080",
   "outputs": [
    {
     "data": {
      "text/plain": [
       "13"
      ]
     },
     "execution_count": 11,
     "metadata": {},
     "output_type": "execute_result"
    }
   ],
   "execution_count": 11
  },
  {
   "metadata": {
    "ExecuteTime": {
     "end_time": "2025-02-19T23:03:10.468093Z",
     "start_time": "2025-02-19T23:03:10.465789Z"
    }
   },
   "cell_type": "code",
   "source": "",
   "id": "80e300a60e52ec34",
   "outputs": [],
   "execution_count": null
  },
  {
   "metadata": {},
   "cell_type": "code",
   "outputs": [],
   "execution_count": null,
   "source": "",
   "id": "55246b6de066b2e5"
  }
 ],
 "metadata": {
  "kernelspec": {
   "display_name": "Python 3",
   "language": "python",
   "name": "python3"
  },
  "language_info": {
   "codemirror_mode": {
    "name": "ipython",
    "version": 2
   },
   "file_extension": ".py",
   "mimetype": "text/x-python",
   "name": "python",
   "nbconvert_exporter": "python",
   "pygments_lexer": "ipython2",
   "version": "2.7.6"
  }
 },
 "nbformat": 4,
 "nbformat_minor": 5
}
