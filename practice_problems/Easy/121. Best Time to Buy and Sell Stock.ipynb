{
 "cells": [
  {
   "cell_type": "markdown",
   "metadata": {},
   "source": [
    "# 121. Best Time to Buy and Sell Stock\n",
    "\n",
    "You are given an array `prices` where `prices[i]` is the price of a given stock on the `ith` day.\n",
    "\n",
    "You want to maximize your profit by choosing a **single day** to buy one stock and choosing a **different day in the future** to sell that stock.\n",
    "\n",
    "Return the **maximum profit you can achieve** from this transaction. If you cannot achieve any profit, return 0.\n",
    "\n",
    "> Example 1: <br>\n",
    "Input: `prices = [7,1,5,3,6,4]` <br>\n",
    "Output: `5` <br>\n",
    "Explanation: Buy on day 2 (price = 1) and sell on day 5 (price = 6), profit = 6-1 = 5. <br>\n",
    "Note that buying on day 2 and selling on day 1 is not allowed because you must buy before you sell.\n",
    "\n",
    "> Example 2: <br>\n",
    "Input: `prices = [7,6,4,3,1]` <br>\n",
    "Output: `0` <br>\n",
    "Explanation: In this case, no transactions are done and the max profit = 0."
   ]
  },
  {
   "cell_type": "code",
   "execution_count": 34,
   "metadata": {},
   "outputs": [],
   "source": [
    "from typing import List\n",
    "\n",
    "\n",
    "class Solution:\n",
    "    def maxProfit(self, prices: List[int]) -> int:\n",
    "        buy = 0\n",
    "        sell = 1\n",
    "        max_profit = 0\n",
    "        while sell < len(prices):\n",
    "            print(sell)\n",
    "            profit = prices[sell] - prices[buy]\n",
    "            max_profit = max(profit, max_profit)\n",
    "            if prices[sell] < prices[buy]:\n",
    "                buy = sell\n",
    "            sell += 1\n",
    "        if sell < buy: return 0\n",
    "        return max_profit\n",
    "            "
   ]
  },
  {
   "cell_type": "code",
   "execution_count": 35,
   "metadata": {},
   "outputs": [
    {
     "name": "stdout",
     "output_type": "stream",
     "text": [
      "1\n",
      "2\n"
     ]
    },
    {
     "data": {
      "text/plain": [
       "0"
      ]
     },
     "execution_count": 35,
     "metadata": {},
     "output_type": "execute_result"
    }
   ],
   "source": [
    "solution = Solution()\n",
    "solution.maxProfit([6,4,2])"
   ]
  },
  {
   "cell_type": "code",
   "execution_count": 36,
   "metadata": {},
   "outputs": [
    {
     "name": "stdout",
     "output_type": "stream",
     "text": [
      "1\n",
      "2\n",
      "3\n",
      "4\n",
      "5\n"
     ]
    },
    {
     "data": {
      "text/plain": [
       "4"
      ]
     },
     "execution_count": 36,
     "metadata": {},
     "output_type": "execute_result"
    }
   ],
   "source": [
    "solution = Solution()\n",
    "solution.maxProfit([3,2,6,5,0,3])"
   ]
  },
  {
   "cell_type": "code",
   "execution_count": null,
   "metadata": {},
   "outputs": [],
   "source": []
  }
 ],
 "metadata": {
  "kernelspec": {
   "display_name": "venv",
   "language": "python",
   "name": "python3"
  },
  "language_info": {
   "codemirror_mode": {
    "name": "ipython",
    "version": 3
   },
   "file_extension": ".py",
   "mimetype": "text/x-python",
   "name": "python",
   "nbconvert_exporter": "python",
   "pygments_lexer": "ipython3",
   "version": "3.12.3"
  }
 },
 "nbformat": 4,
 "nbformat_minor": 2
}
