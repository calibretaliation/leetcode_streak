{
 "cells": [
  {
   "metadata": {},
   "cell_type": "markdown",
   "source": [
    "# 58. Length of Last Word\n",
    "\n",
    "Given a string `s` consisting of words and spaces, return the length of the last word in the string.\n",
    "\n",
    "A word is a maximal substring consisting of non-space characters only.\n",
    "\n",
    "> Example 1:  \n",
    "Input: `s = \"Hello World\"`  \n",
    "Output: `5`  \n",
    "Explanation: The last word is \"World\" with length 5.\n",
    "\n",
    "Constraints:\n",
    "\n",
    "   > `1 <= s.length <= 104`  \n",
    "    `s consists of only English letters and spaces ' '.`  \n",
    "    `There will be at least one word in s.`\n"
   ],
   "id": "2bae7e9958b40db2"
  },
  {
   "metadata": {
    "ExecuteTime": {
     "end_time": "2025-02-01T14:10:08.673927Z",
     "start_time": "2025-02-01T14:10:08.670630Z"
    }
   },
   "cell_type": "code",
   "source": [
    "class Solution:\n",
    "    def lengthOfLastWord(self, s: str) -> int:\n",
    "        if len(s) == 0:\n",
    "            return 0\n",
    "        else:\n",
    "            return len(s.split()[-1])"
   ],
   "id": "70f94661fd8c2468",
   "outputs": [],
   "execution_count": 1
  },
  {
   "metadata": {
    "ExecuteTime": {
     "end_time": "2025-02-01T13:39:56.667035Z",
     "start_time": "2025-02-01T13:39:56.663044Z"
    }
   },
   "cell_type": "code",
   "source": [
    "solution = Solution()\n",
    "solution.lengthOfLastWord(\"HHEELLOO WWOORRLDD  \")"
   ],
   "id": "7d367b463cdacd25",
   "outputs": [
    {
     "data": {
      "text/plain": [
       "9"
      ]
     },
     "execution_count": 11,
     "metadata": {},
     "output_type": "execute_result"
    }
   ],
   "execution_count": 11
  },
  {
   "metadata": {
    "ExecuteTime": {
     "end_time": "2025-02-01T13:39:56.978420Z",
     "start_time": "2025-02-01T13:39:56.974877Z"
    }
   },
   "cell_type": "code",
   "source": [
    "solution = Solution()\n",
    "solution.lengthOfLastWord(\"  HHEELLOO   WWOORRLDD  \")"
   ],
   "id": "bfa01b5fd576bc92",
   "outputs": [
    {
     "data": {
      "text/plain": [
       "9"
      ]
     },
     "execution_count": 12,
     "metadata": {},
     "output_type": "execute_result"
    }
   ],
   "execution_count": 12
  },
  {
   "metadata": {
    "ExecuteTime": {
     "end_time": "2025-02-01T13:39:57.049811Z",
     "start_time": "2025-02-01T13:39:57.046240Z"
    }
   },
   "cell_type": "code",
   "source": [
    "solution = Solution()\n",
    "solution.lengthOfLastWord(\"HHEELLOO WWOORRLDD\")"
   ],
   "id": "47b4d19b56da0096",
   "outputs": [
    {
     "data": {
      "text/plain": [
       "9"
      ]
     },
     "execution_count": 13,
     "metadata": {},
     "output_type": "execute_result"
    }
   ],
   "execution_count": 13
  },
  {
   "metadata": {},
   "cell_type": "code",
   "outputs": [],
   "execution_count": null,
   "source": "",
   "id": "a54e7e55e186b2a2"
  }
 ],
 "metadata": {
  "kernelspec": {
   "display_name": "Python 3",
   "language": "python",
   "name": "python3"
  },
  "language_info": {
   "codemirror_mode": {
    "name": "ipython",
    "version": 2
   },
   "file_extension": ".py",
   "mimetype": "text/x-python",
   "name": "python",
   "nbconvert_exporter": "python",
   "pygments_lexer": "ipython2",
   "version": "2.7.6"
  }
 },
 "nbformat": 4,
 "nbformat_minor": 5
}
