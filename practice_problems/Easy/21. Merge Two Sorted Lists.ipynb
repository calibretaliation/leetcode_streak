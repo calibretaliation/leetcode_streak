{
 "cells": [
  {
   "cell_type": "markdown",
   "metadata": {},
   "source": [
    "# 21. Merge Two Sorted Lists\n",
    "You are given the heads of **two sorted linked lists** `list1` and `list2`.\n",
    "\n",
    "Merge the two lists into one sorted list. The list should be made by splicing together the nodes of the first two lists.\n",
    "\n",
    "Return the head of the merged linked list.\n",
    "\n",
    "## Example\n",
    "\n",
    "> Example 1: <br>\n",
    "Input: `list1 = [1,2,4]`, `list2 = [1,3,4]` <br>\n",
    "Output: `[1,1,2,3,4,4]` <br>\n",
    "\n",
    ">Example 2: <br>\n",
    "Input: `list1 = []`, `list2 = []` <br>\n",
    "Output: `[]` <br>\n",
    "\n",
    ">Example 3: <br>\n",
    "Input: `list1 = []`, `list2 = [0]` <br>\n",
    "Output: `[0]`"
   ]
  },
  {
   "cell_type": "code",
   "execution_count": null,
   "metadata": {},
   "outputs": [],
   "source": [
    "# Definition for singly-linked list.\n",
    "from typing import Optional\n",
    "\n",
    "\n",
    "class ListNode:\n",
    "    def __init__(self, val=0, next=None):\n",
    "        self.val = val\n",
    "        self.next = next\n",
    "def print_list(list1, mes = \"\"):\n",
    "    if list1 == None:\n",
    "        print(mes, \"NULL\")\n",
    "        return None\n",
    "    res = [list1.val]\n",
    "    while list1.next != None:\n",
    "        res.append(list1.next.val)\n",
    "        list1 = list1.next\n",
    "    print(mes, res)  \n",
    "class Solution:\n",
    "    def mergeTwoLists(self, list1: Optional[ListNode], list2: Optional[ListNode]) -> Optional[ListNode]:\n",
    "        cur = dummy = ListNode()\n",
    "        while list1 and list2:\n",
    "            if list1.val <= list2.val:\n",
    "                print_list(list1, \"list1 before: \")\n",
    "                print_list(list2, \"list2 before: \")\n",
    "                print_list(dummy, \"dummy before: \")\n",
    "                cur.next = list1\n",
    "                list1 = list1.next\n",
    "                print_list(list1, \"list1 after: \")\n",
    "                print_list(list2, \"list2 after: \")\n",
    "                print_list(dummy, \"dummy after: \")\n",
    "                cur = cur.next\n",
    "            else:\n",
    "                print_list(list1, \"list1 before: \")\n",
    "                print_list(list2, \"list2 before: \")\n",
    "                print_list(dummy, \"dummy before: \")\n",
    "                cur.next = list2\n",
    "                list2 = list2.next\n",
    "                print_list(list1, \"list1 after: \")\n",
    "                print_list(list2, \"list2 after: \")\n",
    "                print_list(dummy, \"dummy after: \")\n",
    "                cur = cur.next\n",
    "        if list1 or list2:\n",
    "            cur.next = list1 if list1 else list2\n",
    "        return dummy.next\n",
    "        "
   ]
  },
  {
   "cell_type": "code",
   "execution_count": 118,
   "metadata": {},
   "outputs": [],
   "source": [
    "solution = Solution()"
   ]
  },
  {
   "cell_type": "code",
   "execution_count": 119,
   "metadata": {},
   "outputs": [
    {
     "name": "stdout",
     "output_type": "stream",
     "text": [
      " [1, 2, 4]\n",
      " [1, 3, 4]\n",
      "list1 before:  [1, 2, 4]\n",
      "list2 before:  [1, 3, 4]\n",
      "dummy before:  [0]\n",
      "list1 after:  [2, 4]\n",
      "list2 after:  [1, 3, 4]\n",
      "dummy after:  [0, 1, 2, 4]\n",
      "list1 before:  [2, 4]\n",
      "list2 before:  [1, 3, 4]\n",
      "dummy before:  [0, 1, 2, 4]\n",
      "list1 after:  [2, 4]\n",
      "list2 after:  [3, 4]\n",
      "dummy after:  [0, 1, 1, 3, 4]\n",
      "list1 before:  [2, 4]\n",
      "list2 before:  [3, 4]\n",
      "dummy before:  [0, 1, 1, 3, 4]\n",
      "list1 after:  [4]\n",
      "list2 after:  [3, 4]\n",
      "dummy after:  [0, 1, 1, 2, 4]\n",
      "list1 before:  [4]\n",
      "list2 before:  [3, 4]\n",
      "dummy before:  [0, 1, 1, 2, 4]\n",
      "list1 after:  [4]\n",
      "list2 after:  [4]\n",
      "dummy after:  [0, 1, 1, 2, 3, 4]\n",
      "list1 before:  [4]\n",
      "list2 before:  [4]\n",
      "dummy before:  [0, 1, 1, 2, 3, 4]\n",
      "list1 after:  NULL\n",
      "list2 after:  [4]\n",
      "dummy after:  [0, 1, 1, 2, 3, 4]\n",
      "result:  [1, 1, 2, 3, 4, 4]\n"
     ]
    }
   ],
   "source": [
    "list1 = ListNode(1)\n",
    "list1.next = ListNode(2)\n",
    "list1.next.next = ListNode(4)\n",
    "print_list(list1)\n",
    "\n",
    "list2 = ListNode(1)\n",
    "list2.next = ListNode(3)\n",
    "list2.next.next = ListNode(4)\n",
    "print_list(list2)\n",
    "\n",
    "print_list(solution.mergeTwoLists(list1, list2), \"result: \")"
   ]
  },
  {
   "cell_type": "code",
   "execution_count": null,
   "metadata": {},
   "outputs": [],
   "source": []
  },
  {
   "cell_type": "code",
   "execution_count": null,
   "metadata": {},
   "outputs": [],
   "source": []
  },
  {
   "cell_type": "code",
   "execution_count": null,
   "metadata": {},
   "outputs": [],
   "source": []
  }
 ],
 "metadata": {
  "kernelspec": {
   "display_name": "venv",
   "language": "python",
   "name": "python3"
  },
  "language_info": {
   "codemirror_mode": {
    "name": "ipython",
    "version": 3
   },
   "file_extension": ".py",
   "mimetype": "text/x-python",
   "name": "python",
   "nbconvert_exporter": "python",
   "pygments_lexer": "ipython3",
   "version": "3.12.3"
  }
 },
 "nbformat": 4,
 "nbformat_minor": 2
}
