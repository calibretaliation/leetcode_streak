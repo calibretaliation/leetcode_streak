{
 "cells": [
  {
   "metadata": {},
   "cell_type": "markdown",
   "source": [
    "# 13. Roman to Integer\n",
    "Roman numerals are represented by seven different symbols: `I, V, X, L, C, D` and `M`. <br>\n",
    ">`I -> 1` <br>\n",
    "`V -> 5` <br>\n",
    "`X -> 10` <br>\n",
    "`L -> 50` <br>\n",
    "`C -> 100` <br>\n",
    "`D -> 500` <br>\n",
    "`M -> 1000` <br>\n",
    "\n",
    "For example, `2` is written as `II` in Roman numeral, just two ones added together. `12` is written as `XII`, which is simply `X + II`. The number `27` is written as `XXVII`, which is `XX + V + II`. <br>\n",
    "Roman numerals are usually written largest to smallest from left to right. However, the numeral for `four` is **not** `IIII`. Instead, the number `four` is written as `IV`. Because the `one` is before the `five` we subtract it making `four`. The same principle applies to the number `nine`, which is written as `IX`. There are six instances where subtraction is used:\n",
    "- `I` can be placed before `V (5)` and `X (10)` to make `4` and `9`.\n",
    "- `X` can be placed before `L (50)` and `C (100)` to make `40` and `90`.\n",
    "- `C` can be placed before `D (500)` and `M (1000)` to make `400` and `900`.\n",
    "\n",
    "Given a roman numeral, convert it to an integer.\n",
    ">Example 1: <br>\n",
    "Input: `s = \"III\"` <br>\n",
    "Output: `3` <br>\n",
    "Explanation: `III = 3`\n",
    "\n",
    "Constraints:\n",
    "\n",
    "- `1 <= s.length <= 15`\n",
    "- `s` contains only the characters `('I', 'V', 'X', 'L', 'C', 'D', 'M')`.\n",
    "- It is guaranteed that `s` is a valid roman numeral in the range `[1, 3999]`."
   ],
   "id": "7f4c08a4ee2cf014"
  },
  {
   "metadata": {
    "ExecuteTime": {
     "end_time": "2025-02-04T13:13:35.442169Z",
     "start_time": "2025-02-04T13:13:35.434502Z"
    }
   },
   "cell_type": "code",
   "source": [
    "# APPROACH 2:\n",
    "class Solution:\n",
    "    def romanToInt(self, s: str) -> int:\n",
    "        # Initialize the result variable to store the final integer value\n",
    "        result = 0\n",
    "\n",
    "        # Dictionary to map individual Roman numeral characters to their integer values\n",
    "        map = {'I': 1, 'V': 5, 'X': 10, 'L': 50, 'C': 100, 'D': 500, 'M': 1000}\n",
    "\n",
    "        # Iterate through each character in the input string\n",
    "        for i in range(len(s)):\n",
    "            # If the current numeral is smaller than the next one, subtract its value\n",
    "            # This handles cases like 'IV' (4) or 'IX' (9) where subtraction is used\n",
    "            if i < len(s) - 1 and map[s[i]] < map[s[i + 1]]:\n",
    "                result -= map[s[i]]\n",
    "            else:\n",
    "                # Otherwise, add the value of the current numeral to the result\n",
    "                result += map[s[i]]\n",
    "\n",
    "        # Return the final computed integer value\n",
    "        return result"
   ],
   "id": "c4ed9a84d53a01e3",
   "outputs": [],
   "execution_count": 54
  },
  {
   "metadata": {
    "ExecuteTime": {
     "end_time": "2025-02-04T13:11:16.704528Z",
     "start_time": "2025-02-04T13:11:16.699349Z"
    }
   },
   "cell_type": "code",
   "source": [
    "#APPROACH 1:\n",
    "class Solution_2:\n",
    "    def romanToInt(self, s: str) -> int:\n",
    "        result = 0\n",
    "        i = 0\n",
    "        map = {'I':1, 'V':5, 'X':10, 'L':50, 'C':100, 'D':500, 'M':1000, 'IV':4, 'IX':9, 'XL':40, 'XC':90, 'CD':400, 'CM':900}\n",
    "        while i < len(s):\n",
    "            if s[i:i+2] in map:\n",
    "                result += map[s[i:i+2]]\n",
    "                i += 2\n",
    "            else:\n",
    "                result += map[s[i]]\n",
    "                i += 1\n",
    "        return result"
   ],
   "id": "c788e91bba6cadba",
   "outputs": [],
   "execution_count": 50
  },
  {
   "metadata": {
    "ExecuteTime": {
     "end_time": "2025-02-04T13:13:45.329268Z",
     "start_time": "2025-02-04T13:13:45.322678Z"
    }
   },
   "cell_type": "code",
   "source": [
    "solution = Solution()\n",
    "solution.romanToInt(\"III\")"
   ],
   "id": "10ba133a4bfabef9",
   "outputs": [
    {
     "data": {
      "text/plain": [
       "3"
      ]
     },
     "execution_count": 55,
     "metadata": {},
     "output_type": "execute_result"
    }
   ],
   "execution_count": 55
  },
  {
   "metadata": {
    "ExecuteTime": {
     "end_time": "2025-02-04T13:13:45.656003Z",
     "start_time": "2025-02-04T13:13:45.649278Z"
    }
   },
   "cell_type": "code",
   "source": [
    "solution = Solution()\n",
    "solution.romanToInt(\"MCMXCIV\")"
   ],
   "id": "ebf55f459dba4771",
   "outputs": [
    {
     "data": {
      "text/plain": [
       "1994"
      ]
     },
     "execution_count": 56,
     "metadata": {},
     "output_type": "execute_result"
    }
   ],
   "execution_count": 56
  },
  {
   "metadata": {
    "ExecuteTime": {
     "end_time": "2025-02-04T13:13:45.873714Z",
     "start_time": "2025-02-04T13:13:45.869102Z"
    }
   },
   "cell_type": "code",
   "source": [
    "solution = Solution()\n",
    "solution.romanToInt(\"MDCXCV\")"
   ],
   "id": "3149f1e00540e757",
   "outputs": [
    {
     "data": {
      "text/plain": [
       "1695"
      ]
     },
     "execution_count": 57,
     "metadata": {},
     "output_type": "execute_result"
    }
   ],
   "execution_count": 57
  },
  {
   "metadata": {
    "ExecuteTime": {
     "end_time": "2025-02-04T13:13:46.086604Z",
     "start_time": "2025-02-04T13:13:46.084560Z"
    }
   },
   "cell_type": "code",
   "source": "",
   "id": "96e3227fcd44bc37",
   "outputs": [],
   "execution_count": null
  },
  {
   "metadata": {},
   "cell_type": "code",
   "outputs": [],
   "execution_count": null,
   "source": "",
   "id": "b0ce8ec475151172"
  }
 ],
 "metadata": {
  "kernelspec": {
   "display_name": "Python 3",
   "language": "python",
   "name": "python3"
  },
  "language_info": {
   "codemirror_mode": {
    "name": "ipython",
    "version": 2
   },
   "file_extension": ".py",
   "mimetype": "text/x-python",
   "name": "python",
   "nbconvert_exporter": "python",
   "pygments_lexer": "ipython2",
   "version": "2.7.6"
  }
 },
 "nbformat": 4,
 "nbformat_minor": 5
}
