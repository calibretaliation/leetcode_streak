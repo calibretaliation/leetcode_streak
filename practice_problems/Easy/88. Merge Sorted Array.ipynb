{
 "cells": [
  {
   "cell_type": "markdown",
   "metadata": {},
   "source": [
    "# 88. Merge Sorted Array\n",
    "\n",
    "You are given two integer arrays `nums1` and `nums2`, sorted in **non-decreasing** order, and two integers `m` and `n`, representing the number of elements in `nums1` and `nums2` respectively.\n",
    "\n",
    "Merge `nums1` and `nums2` into a single array sorted in **non-decreasing order**.\n",
    "\n",
    "The final sorted array should not be returned by the function, but instead be *stored inside the array* `nums1`. To accommodate this, `nums1` has a length of `m + n`, where the first `m` elements denote the elements that should be merged, and the last `n` elements are set to 0 and should be ignored. `nums2` has a length of `n`.\n",
    "\n",
    "> Example 1: <br>\n",
    "Input: `nums1 = [1,2,3,0,0,0]`, `m = 3`, `nums2 = [2,5,6]`, `n = 3` <br>\n",
    "Output: `[1,2,2,3,5,6]` <br>\n",
    "Explanation: The arrays we are merging are `[1,2,3]` and `[2,5,6]`.\n",
    "The result of the merge is `[1,2,2,3,5,6]` with the underlined elements coming from `nums1`.\n",
    "\n",
    "> Example 2: <br>\n",
    "Input: `nums1 = [1]`, `m = 1`, `nums2 = []`, `n = 0` <br>\n",
    "Output: `[1]` <br>\n",
    "Explanation: The arrays we are merging are `[1]` and `[]`.\n",
    "The result of the merge is `[1]`.\n",
    "\n",
    "> Example 3: <br>\n",
    "Input: `nums1 = [0]`, `m = 0`, `nums2 = [1]`, `n = 1` <br>\n",
    "Output: `[1]` <br>\n",
    "Explanation: The arrays we are merging are `[]` and `[1]`.\n",
    "The result of the merge is `[1]`.\n",
    "Note that because `m = 0`, there are no elements in `nums1`. The `0` is only there to ensure the merge result can fit in `nums1`.\n",
    "\n",
    " \n",
    "\n",
    "Constraints:\n",
    "\n",
    "    nums1.length == m + n\n",
    "    nums2.length == n\n",
    "    0 <= m, n <= 200\n",
    "    1 <= m + n <= 200\n",
    "    -109 <= nums1[i], nums2[j] <= 109\n",
    "\n",
    " \n",
    "\n",
    "Follow up: Can you come up with an algorithm that runs in `O(m + n)` time?"
   ]
  },
  {
   "cell_type": "code",
   "execution_count": 84,
   "metadata": {},
   "outputs": [],
   "source": [
    "from typing import List\n",
    "\n",
    "\n",
    "class Solution:\n",
    "    def merge(self, nums1: List[int], m: int, nums2: List[int], n: int) -> None:\n",
    "        \"\"\"\n",
    "        Do not return anything, modify nums1 in-place instead.\n",
    "        \"\"\"\n",
    "        i = 0\n",
    "        if m == 0:\n",
    "            for i in range(n):\n",
    "                nums1[i] = nums2[i]\n",
    "        if m*n != 0:\n",
    "            while i < m+n:\n",
    "                print(\"i: \", i)\n",
    "                print(\"nums1: \", nums1)\n",
    "                print(\"nums2: \", nums2)\n",
    "                if len(nums2) == 0:\n",
    "                    break\n",
    "                \n",
    "                if nums1[i] >= nums2[0]:\n",
    "                    nums1.insert(i, nums2[0])\n",
    "                    nums1.pop()\n",
    "                    nums2.pop(0)\n",
    "                elif i >= (m+n - len(nums2) -1):\n",
    "                    nums1.insert(i+1, nums2[0])\n",
    "                    nums1.pop()\n",
    "                    nums2.pop(0)\n",
    "                i += 1\n",
    "            "
   ]
  },
  {
   "cell_type": "code",
   "execution_count": 85,
   "metadata": {},
   "outputs": [
    {
     "name": "stdout",
     "output_type": "stream",
     "text": [
      "i:  0\n",
      "nums1:  [1, 2, 3, 0, 0, 0]\n",
      "nums2:  [2, 5, 6]\n",
      "i:  1\n",
      "nums1:  [1, 2, 3, 0, 0, 0]\n",
      "nums2:  [2, 5, 6]\n",
      "i:  2\n",
      "nums1:  [1, 2, 2, 3, 0, 0]\n",
      "nums2:  [5, 6]\n",
      "i:  3\n",
      "nums1:  [1, 2, 2, 3, 0, 0]\n",
      "nums2:  [5, 6]\n",
      "i:  4\n",
      "nums1:  [1, 2, 2, 3, 5, 0]\n",
      "nums2:  [6]\n",
      "i:  5\n",
      "nums1:  [1, 2, 2, 3, 5, 6]\n",
      "nums2:  []\n"
     ]
    }
   ],
   "source": [
    "nums1 = [1,2,3,0,0,0]\n",
    "nums2 = [2,5,6]\n",
    "solution = Solution()\n",
    "solution.merge(nums1, 3, nums2, 3)"
   ]
  },
  {
   "cell_type": "code",
   "execution_count": 86,
   "metadata": {},
   "outputs": [],
   "source": [
    "nums1 = [1]\n",
    "nums2 = []\n",
    "solution = Solution()\n",
    "solution.merge(nums1, 1, nums2, 0)"
   ]
  },
  {
   "cell_type": "code",
   "execution_count": 87,
   "metadata": {},
   "outputs": [],
   "source": [
    "nums1 = [0,0,0]\n",
    "nums2 = [1,2,3]\n",
    "solution = Solution()\n",
    "solution.merge(nums1, 0, nums2, 3)"
   ]
  },
  {
   "cell_type": "code",
   "execution_count": null,
   "metadata": {},
   "outputs": [],
   "source": []
  },
  {
   "cell_type": "code",
   "execution_count": null,
   "metadata": {},
   "outputs": [],
   "source": []
  }
 ],
 "metadata": {
  "kernelspec": {
   "display_name": "venv",
   "language": "python",
   "name": "python3"
  },
  "language_info": {
   "codemirror_mode": {
    "name": "ipython",
    "version": 3
   },
   "file_extension": ".py",
   "mimetype": "text/x-python",
   "name": "python",
   "nbconvert_exporter": "python",
   "pygments_lexer": "ipython3",
   "version": "3.12.3"
  }
 },
 "nbformat": 4,
 "nbformat_minor": 2
}
