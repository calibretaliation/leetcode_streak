{
 "cells": [
  {
   "metadata": {},
   "cell_type": "markdown",
   "source": [
    "# 27. Remove Element\n",
    "Given an integer array `nums` and an integer `val`, remove all occurrences of `val` in `nums` **in-place**. The order of the elements may be changed. Then return the number of elements in `nums` which are not equal to `val`.\n",
    "\n",
    "Consider the number of elements in `nums` which are not equal to `val` be `k`, to get accepted, you need to do the following things:\n",
    "\n",
    "Change the array `nums` such that the first `k` elements of `nums` contain the elements which are not equal to `val`. The remaining elements of nums are not important as well as the size of nums.\n",
    "Return `k`.\n",
    "\n",
    "Custom Judge:\n",
    "\n",
    "The judge will test your solution with the following code:\n",
    "\n",
    "```\n",
    "int[] nums = [...]; // Input array\n",
    "int val = ...; // Value to remove\n",
    "int[] expectedNums = [...]; // The expected answer with correct length.\n",
    "                            // It is sorted with no values equaling val.\n",
    "\n",
    "int k = removeElement(nums, val); // Calls your implementation\n",
    "\n",
    "assert k == expectedNums.length;\n",
    "sort(nums, 0, k); // Sort the first k elements of nums\n",
    "for (int i = 0; i < actualLength; i++) {\n",
    "    assert nums[i] == expectedNums[i];\n",
    "}\n",
    "```\n",
    "If all assertions pass, then your solution will be accepted.\n",
    "\n",
    "> Example 1: <br>\n",
    "Input: `nums = [3,2,2,3]`, `val = 3` <br>\n",
    "Output: `2`, `nums = [2,2,_,_]` <br>\n",
    "Explanation: Your function should return `k = 2`, with the first two elements of `nums` being `2`.  <br>\n",
    "It does not matter what you leave beyond the returned k (hence they are underscores)."
   ],
   "id": "b8782f72c418b028"
  },
  {
   "metadata": {
    "ExecuteTime": {
     "end_time": "2025-02-06T13:16:50.300350Z",
     "start_time": "2025-02-06T13:16:50.295250Z"
    }
   },
   "cell_type": "code",
   "source": [
    "from typing import List\n",
    "\n",
    "class Solution:\n",
    "    def removeElement(self, nums: List[int], val: int) -> int:\n",
    "        # Create a copy of the input list `nums` to iterate over while modifying the original list\n",
    "        nums_cp = nums.copy()\n",
    "\n",
    "        # Iterate through each number in the copied list\n",
    "        for num in nums_cp:\n",
    "            # If the current number matches the value to remove (`val`)\n",
    "            if num == val:\n",
    "                # Remove the number from the original list\n",
    "                nums.remove(num)\n",
    "\n",
    "        # Return the modified list and its new length\n",
    "        return nums, len(nums)"
   ],
   "id": "20153b79b9c720e6",
   "outputs": [],
   "execution_count": 12
  },
  {
   "metadata": {
    "ExecuteTime": {
     "end_time": "2025-02-06T13:16:50.474962Z",
     "start_time": "2025-02-06T13:16:50.469434Z"
    }
   },
   "cell_type": "code",
   "source": [
    "solution = Solution()\n",
    "expected = [2,2]\n",
    "nums = [3,2,2,3]\n",
    "nums, k = solution.removeElement(nums, 3)\n",
    "assert k == len(expected)\n",
    "for i in range(len(expected)):\n",
    "    print(nums[i])\n",
    "    assert nums[i] == expected[i]"
   ],
   "id": "4018e92b60014e8",
   "outputs": [
    {
     "name": "stdout",
     "output_type": "stream",
     "text": [
      "2\n",
      "2\n"
     ]
    }
   ],
   "execution_count": 13
  },
  {
   "metadata": {
    "ExecuteTime": {
     "end_time": "2025-02-06T13:16:50.951771Z",
     "start_time": "2025-02-06T13:16:50.949270Z"
    }
   },
   "cell_type": "code",
   "source": "",
   "id": "faf49b4dd09f7a05",
   "outputs": [],
   "execution_count": null
  },
  {
   "metadata": {},
   "cell_type": "code",
   "outputs": [],
   "execution_count": null,
   "source": "",
   "id": "dbfb13503a3cb390"
  }
 ],
 "metadata": {
  "kernelspec": {
   "display_name": "Python 3",
   "language": "python",
   "name": "python3"
  },
  "language_info": {
   "codemirror_mode": {
    "name": "ipython",
    "version": 2
   },
   "file_extension": ".py",
   "mimetype": "text/x-python",
   "name": "python",
   "nbconvert_exporter": "python",
   "pygments_lexer": "ipython2",
   "version": "2.7.6"
  }
 },
 "nbformat": 4,
 "nbformat_minor": 5
}
