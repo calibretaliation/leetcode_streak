{
 "cells": [
  {
   "metadata": {},
   "cell_type": "markdown",
   "source": [
    "# 28. Find the Index of the First Occurence in a String\n",
    "\n",
    "Given two strings `needle` and `haystack`, return the index of the first occurrence of `needle` in `haystack`, or `-1` if `needle` is not part of `haystack`.\n",
    "\n",
    "\n",
    "\n",
    "> Example 1: <br>\n",
    "Input: `haystack = \"sadbutsad\", needle = \"sad\"`  <br>\n",
    "Output: `0`  <br>\n",
    "Explanation: \"sad\" occurs at index 0 and 6. The first occurrence is at index 0, so we return 0."
   ],
   "id": "968ea13b32b8544"
  },
  {
   "metadata": {
    "ExecuteTime": {
     "end_time": "2025-02-09T00:42:52.169305Z",
     "start_time": "2025-02-09T00:42:52.156175Z"
    }
   },
   "cell_type": "code",
   "source": [
    "class Solution:\n",
    "    def strStr(self, haystack: str, needle: str) -> int:\n",
    "        result = -1\n",
    "        for i in range(len(haystack) - len(needle) + 1):\n",
    "            if haystack[i:i+len(needle)] == needle:\n",
    "                result = i\n",
    "                break\n",
    "        return result"
   ],
   "id": "12b27bbee0ff7fee",
   "outputs": [],
   "execution_count": 1
  },
  {
   "metadata": {
    "ExecuteTime": {
     "end_time": "2025-02-09T00:43:16.046241Z",
     "start_time": "2025-02-09T00:43:16.036242Z"
    }
   },
   "cell_type": "code",
   "source": [
    "solution = Solution()\n",
    "solution.strStr(\"sadbut sad\",\"sad\")"
   ],
   "id": "68e7472ba9223a50",
   "outputs": [
    {
     "data": {
      "text/plain": [
       "0"
      ]
     },
     "execution_count": 2,
     "metadata": {},
     "output_type": "execute_result"
    }
   ],
   "execution_count": 2
  },
  {
   "metadata": {},
   "cell_type": "code",
   "outputs": [],
   "execution_count": null,
   "source": "",
   "id": "699f777542c62f3c"
  }
 ],
 "metadata": {
  "kernelspec": {
   "display_name": "Python 3",
   "language": "python",
   "name": "python3"
  },
  "language_info": {
   "codemirror_mode": {
    "name": "ipython",
    "version": 2
   },
   "file_extension": ".py",
   "mimetype": "text/x-python",
   "name": "python",
   "nbconvert_exporter": "python",
   "pygments_lexer": "ipython2",
   "version": "2.7.6"
  }
 },
 "nbformat": 4,
 "nbformat_minor": 5
}
