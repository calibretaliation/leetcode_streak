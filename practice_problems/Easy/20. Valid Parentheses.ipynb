{
 "cells": [
  {
   "metadata": {},
   "cell_type": "markdown",
   "source": [
    "# 20. Valid Parentheses\n",
    "Given a string `s` containing just the characters `'(', ')', '{', '}', '[' and ']'`, determine if the input string is valid.\n",
    "\n",
    "An input string is valid if:\n",
    "\n",
    "- Open brackets must be closed by the same type of brackets.\n",
    "- Open brackets must be closed in the correct order.\n",
    "- Every close bracket has a corresponding open bracket of the same type.\n",
    "\n",
    "> Example: <br>\n",
    "Input: `s = \"([])\"` <br>\n",
    "Output: `true`"
   ],
   "id": "f2c114a40c753321"
  },
  {
   "metadata": {
    "ExecuteTime": {
     "end_time": "2025-02-06T01:52:42.946958Z",
     "start_time": "2025-02-06T01:52:42.940782Z"
    }
   },
   "cell_type": "code",
   "source": [
    "class Solution:\n",
    "    def isValid(self, s: str) -> bool:\n",
    "        # A dictionary to map opening brackets to their corresponding closing brackets\n",
    "        mapping = {'(': ')', '[': ']', '{': '}'}\n",
    "        # A string to keep track of the currently opened brackets\n",
    "        current_open = \"\"\n",
    "\n",
    "        # Iterate through each character in the string\n",
    "        for char in s:\n",
    "            if char in mapping.keys():\n",
    "                # If the character is an opening bracket, append it to current_open\n",
    "                current_open += char\n",
    "            elif char in mapping.values():\n",
    "                # If the character is a closing bracket\n",
    "                if current_open == \"\":\n",
    "                    # If no opening brackets exist to match, return False\n",
    "                    return False\n",
    "                elif mapping[current_open[-1]] != char:\n",
    "                    # If the last opened bracket does not match the current closing bracket, return False\n",
    "                    return False\n",
    "                else:\n",
    "                    # If it matches, remove the last opened bracket from current_open\n",
    "                    current_open = current_open[:-1]\n",
    "\n",
    "        # After processing all characters, return True if no unmatched opening brackets remain\n",
    "        return current_open == \"\""
   ],
   "id": "aedcfb705c5e783",
   "outputs": [],
   "execution_count": 5
  },
  {
   "metadata": {
    "ExecuteTime": {
     "end_time": "2025-02-06T01:52:43.093115Z",
     "start_time": "2025-02-06T01:52:43.087604Z"
    }
   },
   "cell_type": "code",
   "source": [
    "solution = Solution()\n",
    "solution.isValid(\"([])\")"
   ],
   "id": "7a326342a1b6f30a",
   "outputs": [
    {
     "data": {
      "text/plain": [
       "True"
      ]
     },
     "execution_count": 6,
     "metadata": {},
     "output_type": "execute_result"
    }
   ],
   "execution_count": 6
  },
  {
   "metadata": {
    "ExecuteTime": {
     "end_time": "2025-02-06T01:52:43.891992Z",
     "start_time": "2025-02-06T01:52:43.886331Z"
    }
   },
   "cell_type": "code",
   "source": [
    "solution = Solution()\n",
    "solution.isValid(\"([{]})\")"
   ],
   "id": "a64cfd6b74594b5c",
   "outputs": [
    {
     "data": {
      "text/plain": [
       "False"
      ]
     },
     "execution_count": 7,
     "metadata": {},
     "output_type": "execute_result"
    }
   ],
   "execution_count": 7
  },
  {
   "metadata": {},
   "cell_type": "code",
   "outputs": [],
   "execution_count": null,
   "source": "",
   "id": "c7e2855db21bbcd3"
  }
 ],
 "metadata": {
  "kernelspec": {
   "display_name": "Python 3",
   "language": "python",
   "name": "python3"
  },
  "language_info": {
   "codemirror_mode": {
    "name": "ipython",
    "version": 2
   },
   "file_extension": ".py",
   "mimetype": "text/x-python",
   "name": "python",
   "nbconvert_exporter": "python",
   "pygments_lexer": "ipython2",
   "version": "2.7.6"
  }
 },
 "nbformat": 4,
 "nbformat_minor": 5
}
