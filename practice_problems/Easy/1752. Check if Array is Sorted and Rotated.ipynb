{
 "cells": [
  {
   "metadata": {},
   "cell_type": "markdown",
   "source": [
    "# 1752. Check if Array is Sorted and Rotated\n",
    "\n",
    "Given an array `nums`, return `true` if the array was originally sorted in non-decreasing order, then rotated some number of positions (including zero). Otherwise, return `false`.\n",
    "\n",
    "There may be **duplicates** in the original array.\n",
    "\n",
    "Note: An array `A` rotated by `x` positions results in an array `B` of the same length such that `A[i] == B[(i+x) % A.length]`, where `%` is the modulo operation.\n",
    "\n",
    "> Example 1:\n",
    ">\n",
    "> Input: `nums = [3,4,5,1,2]`\n",
    ">\n",
    "> Output: `true`\n",
    ">\n",
    "> Explanation: `[1,2,3,4,5]` is the original sorted array.\n",
    ">\n",
    "> You can rotate the array by `x = 3` positions to begin on the the element of value 3: `[3,4,5,1,2]`.\n",
    "\n",
    "Constraints:\n",
    "> `1 <= nums.length <= 100`\n",
    ">\n",
    "> `1 <= nums[i] <= 100`"
   ],
   "id": "e3377a76a5dff656"
  },
  {
   "cell_type": "code",
   "id": "initial_id",
   "metadata": {
    "collapsed": true,
    "ExecuteTime": {
     "end_time": "2025-02-02T14:59:41.393371Z",
     "start_time": "2025-02-02T14:59:41.387413Z"
    }
   },
   "source": [
    "from typing import List\n",
    "\n",
    "\n",
    "class Solution:\n",
    "    def check(self, nums: List[int]) -> bool:\n",
    "        prev = nums[0]\n",
    "        min = prev\n",
    "        decreasing = 0\n",
    "        result = True\n",
    "        for num in nums:\n",
    "            curr = num\n",
    "            if prev > curr:\n",
    "                decreasing += 1\n",
    "            if (min < curr and decreasing == 1) or (decreasing > 1):\n",
    "                result = False\n",
    "            prev = num\n",
    "        return result\n"
   ],
   "outputs": [],
   "execution_count": 44
  },
  {
   "metadata": {
    "ExecuteTime": {
     "end_time": "2025-02-02T14:59:41.541612Z",
     "start_time": "2025-02-02T14:59:41.532831Z"
    }
   },
   "cell_type": "code",
   "source": [
    "solution = Solution()\n",
    "solution.check([3,4,5,1,2])"
   ],
   "id": "a9158a92895d8cfe",
   "outputs": [
    {
     "data": {
      "text/plain": [
       "True"
      ]
     },
     "execution_count": 45,
     "metadata": {},
     "output_type": "execute_result"
    }
   ],
   "execution_count": 45
  },
  {
   "metadata": {
    "ExecuteTime": {
     "end_time": "2025-02-02T14:59:41.683900Z",
     "start_time": "2025-02-02T14:59:41.678851Z"
    }
   },
   "cell_type": "code",
   "source": [
    "solution = Solution()\n",
    "solution.check([2,1,3,4])"
   ],
   "id": "b70799e33b1dd9d4",
   "outputs": [
    {
     "data": {
      "text/plain": [
       "False"
      ]
     },
     "execution_count": 46,
     "metadata": {},
     "output_type": "execute_result"
    }
   ],
   "execution_count": 46
  },
  {
   "metadata": {
    "ExecuteTime": {
     "end_time": "2025-02-02T14:59:41.827024Z",
     "start_time": "2025-02-02T14:59:41.820997Z"
    }
   },
   "cell_type": "code",
   "source": [
    "solution = Solution()\n",
    "solution.check([1,3,4])"
   ],
   "id": "fca27c437b2bdbbd",
   "outputs": [
    {
     "data": {
      "text/plain": [
       "True"
      ]
     },
     "execution_count": 47,
     "metadata": {},
     "output_type": "execute_result"
    }
   ],
   "execution_count": 47
  },
  {
   "metadata": {
    "ExecuteTime": {
     "end_time": "2025-02-02T14:59:41.962556Z",
     "start_time": "2025-02-02T14:59:41.957222Z"
    }
   },
   "cell_type": "code",
   "source": [
    "solution = Solution()\n",
    "solution.check([2,2,2,2])"
   ],
   "id": "f784d7b84a3e09e7",
   "outputs": [
    {
     "data": {
      "text/plain": [
       "True"
      ]
     },
     "execution_count": 48,
     "metadata": {},
     "output_type": "execute_result"
    }
   ],
   "execution_count": 48
  },
  {
   "metadata": {
    "ExecuteTime": {
     "end_time": "2025-02-02T14:59:42.097266Z",
     "start_time": "2025-02-02T14:59:42.091210Z"
    }
   },
   "cell_type": "code",
   "source": [
    "solution = Solution()\n",
    "solution.check([8,5,4,5,1,4,5,2,2])"
   ],
   "id": "4444963ef280dc46",
   "outputs": [
    {
     "data": {
      "text/plain": [
       "False"
      ]
     },
     "execution_count": 49,
     "metadata": {},
     "output_type": "execute_result"
    }
   ],
   "execution_count": 49
  },
  {
   "metadata": {
    "ExecuteTime": {
     "end_time": "2025-02-02T14:59:42.251587Z",
     "start_time": "2025-02-02T14:59:42.248177Z"
    }
   },
   "cell_type": "code",
   "source": "",
   "id": "7f24df660f500efc",
   "outputs": [],
   "execution_count": null
  },
  {
   "metadata": {},
   "cell_type": "code",
   "outputs": [],
   "execution_count": null,
   "source": "",
   "id": "7758a389b5e9ce32"
  }
 ],
 "metadata": {
  "kernelspec": {
   "display_name": "Python 3",
   "language": "python",
   "name": "python3"
  },
  "language_info": {
   "codemirror_mode": {
    "name": "ipython",
    "version": 2
   },
   "file_extension": ".py",
   "mimetype": "text/x-python",
   "name": "python",
   "nbconvert_exporter": "python",
   "pygments_lexer": "ipython2",
   "version": "2.7.6"
  }
 },
 "nbformat": 4,
 "nbformat_minor": 5
}
