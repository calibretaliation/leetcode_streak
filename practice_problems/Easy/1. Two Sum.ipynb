{
 "cells": [
  {
   "metadata": {},
   "cell_type": "markdown",
   "source": [
    "# 1. Two Sum\n",
    "\n",
    "Given an array of integers `nums` and an integer `target`, return indices of the two numbers such that they add up to target.\n",
    "\n",
    "You may assume that each input would have exactly one solution, and you may not use the same element twice.\n",
    "\n",
    "You can return the answer in any order.\n",
    "> Example 1:  \n",
    "Input: `nums = [2,7,11,15], target = 9`  \n",
    "Output: `[0,1]`\n",
    "Explanation: Because `nums[0] + nums[1] == 9`, we return `[0, 1]`.\n",
    "\n",
    "Constraints:\n",
    ">    `2 <= nums.length <= 104`  \n",
    "    `-109 <= nums[i] <= 109`  \n",
    "    `-109 <= target <= 109`  \n",
    "    `Only one valid answer exists.`\n",
    "\n",
    "Follow-up: Can you come up with an algorithm that is less than O(n2) time complexity?"
   ],
   "id": "c878c979a92fbff4"
  },
  {
   "metadata": {
    "ExecuteTime": {
     "end_time": "2025-02-01T14:09:31.046714Z",
     "start_time": "2025-02-01T14:09:31.044026Z"
    }
   },
   "cell_type": "code",
   "source": [
    "from typing import List\n",
    "\n",
    "\n",
    "class Solution:\n",
    "    def twoSum(self, nums: List[int], target: int) -> List[int]:\n",
    "        hash_table = {}\n",
    "        if len(nums) == 0:\n",
    "            return []\n",
    "        else:\n",
    "            for i in range(len(nums)):\n",
    "                if target - nums[i] in hash_table.keys():\n",
    "                    print(hash_table)\n",
    "                    return [i,hash_table[target - nums[i]]]\n",
    "                else: \n",
    "                    hash_table[nums[i]] = i\n",
    "            return \"NO VALID SOLUTION\"\n"
   ],
   "id": "aebd1af1ba8e274c",
   "outputs": [],
   "execution_count": 9
  },
  {
   "metadata": {
    "ExecuteTime": {
     "end_time": "2025-02-01T14:09:31.206101Z",
     "start_time": "2025-02-01T14:09:31.202705Z"
    }
   },
   "cell_type": "code",
   "source": [
    "sol = Solution()\n",
    "sol.twoSum([2,7,11,15],9)"
   ],
   "id": "45fbd6dff9c9846b",
   "outputs": [
    {
     "name": "stdout",
     "output_type": "stream",
     "text": [
      "{2: 0}\n"
     ]
    },
    {
     "data": {
      "text/plain": [
       "[1, 0]"
      ]
     },
     "execution_count": 10,
     "metadata": {},
     "output_type": "execute_result"
    }
   ],
   "execution_count": 10
  },
  {
   "metadata": {
    "ExecuteTime": {
     "end_time": "2025-02-01T14:09:31.348823Z",
     "start_time": "2025-02-01T14:09:31.344680Z"
    }
   },
   "cell_type": "code",
   "source": [
    "sol = Solution()\n",
    "sol.twoSum([3,2,4],6)"
   ],
   "id": "99c57d20fdcab091",
   "outputs": [
    {
     "name": "stdout",
     "output_type": "stream",
     "text": [
      "{3: 0, 2: 1}\n"
     ]
    },
    {
     "data": {
      "text/plain": [
       "[2, 1]"
      ]
     },
     "execution_count": 11,
     "metadata": {},
     "output_type": "execute_result"
    }
   ],
   "execution_count": 11
  },
  {
   "metadata": {
    "ExecuteTime": {
     "end_time": "2025-02-01T14:09:43.245417Z",
     "start_time": "2025-02-01T14:09:43.242617Z"
    }
   },
   "cell_type": "code",
   "source": [
    "sol = Solution()\n",
    "sol.twoSum([3,4],6)"
   ],
   "id": "dba57636509fb034",
   "outputs": [
    {
     "data": {
      "text/plain": [
       "'NO VALID SOLUTION'"
      ]
     },
     "execution_count": 14,
     "metadata": {},
     "output_type": "execute_result"
    }
   ],
   "execution_count": 14
  },
  {
   "metadata": {},
   "cell_type": "code",
   "outputs": [],
   "execution_count": null,
   "source": "",
   "id": "e760a84a412ed0c3"
  }
 ],
 "metadata": {
  "kernelspec": {
   "display_name": "Python 3",
   "language": "python",
   "name": "python3"
  },
  "language_info": {
   "codemirror_mode": {
    "name": "ipython",
    "version": 2
   },
   "file_extension": ".py",
   "mimetype": "text/x-python",
   "name": "python",
   "nbconvert_exporter": "python",
   "pygments_lexer": "ipython2",
   "version": "2.7.6"
  }
 },
 "nbformat": 4,
 "nbformat_minor": 5
}
