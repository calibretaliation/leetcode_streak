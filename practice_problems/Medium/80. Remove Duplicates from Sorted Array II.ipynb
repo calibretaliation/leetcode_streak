{
 "cells": [
  {
   "cell_type": "markdown",
   "metadata": {},
   "source": [
    "# 80. Remove Duplicates from Sorted Array II\n",
    "\n",
    "Given an integer array `nums` sorted in **non-decreasing order**, remove some duplicates **in-place** such that each unique element appears at most **twice**. The **relative order** of the elements should be kept the **same**.\n",
    "\n",
    "Since it is impossible to change the length of the array in some languages, you must instead have the result be placed in the **first part** of the array `nums`. More formally, if there are `k` elements after removing the duplicates, then the first `k` elements of `nums` should hold the final result. It does not matter what you leave beyond the first `k` elements.\n",
    "\n",
    "Return `k` after placing the final result in the first `k` slots of `nums`.\n",
    "\n",
    "**Do not allocate extra space for another array**. You must do this by **modifying the input array in-place with O(1)** extra memory.\n",
    "\n",
    "## Custom Judge:\n",
    "\n",
    "The judge will test your solution with the following code:\n",
    "```\n",
    "int[] nums = [...]; // Input array\n",
    "int[] expectedNums = [...]; // The expected answer with correct length\n",
    "\n",
    "int k = removeDuplicates(nums); // Calls your implementation\n",
    "\n",
    "assert k == expectedNums.length;\n",
    "for (int i = 0; i < k; i++) {\n",
    "    assert nums[i] == expectedNums[i];\n",
    "}\n",
    "```\n",
    "If all assertions pass, then your solution will be accepted.\n",
    "\n",
    "## Example\n",
    "\n",
    "> Example 1: <br>\n",
    "Input: `nums = [1,1,1,2,2,3]` <br>\n",
    "Output: `5, nums = [1,1,2,2,3,_]` <br>\n",
    "Explanation: Your function should return `k = 5`, with the first five elements of nums being `1, 1, 2, 2` and `3` respectively. <br>\n",
    "It does not matter what you leave beyond the returned `k` (hence they are underscores).\n",
    "\n",
    "> Example 2: <br>\n",
    "Input: `nums = [0,0,1,1,1,1,2,3,3]` <br>\n",
    "Output: `7, nums = [0,0,1,1,2,3,3,_,_]` <br>\n",
    "Explanation: Your function should return `k = 7`, with the first seven elements of nums being `0, 0, 1, 1, 2, 3` and `3` respectively. <br>\n",
    "It does not matter what you leave beyond the returned `k` (hence they are underscores).\n",
    " \n",
    "\n"
   ]
  },
  {
   "cell_type": "code",
   "execution_count": null,
   "metadata": {},
   "outputs": [],
   "source": [
    "from typing import List\n",
    "class Solution:\n",
    "    def removeDuplicates(self, nums: List[int]) -> int:\n",
    "        not_increasing = 0\n",
    "        i =  1\n",
    "        while i < len(nums):\n",
    "            if nums[i] > nums[i-1]:\n",
    "                not_increasing = 0\n",
    "            else: \n",
    "                not_increasing += 1\n",
    "                \n",
    "            if not_increasing > 1:\n",
    "                nums.remove(nums[i])\n",
    "                i -= 1\n",
    "            i += 1\n",
    "        return len(nums)"
   ]
  },
  {
   "cell_type": "code",
   "execution_count": 109,
   "metadata": {},
   "outputs": [],
   "source": [
    "from typing import List\n",
    "\n",
    "class Solution:\n",
    "    def removeDuplicates(self, nums: List[int]) -> int:\n",
    "        i = 0\n",
    "        if len(nums) <= 2:\n",
    "            return len(nums)\n",
    "        for num in nums:\n",
    "            if (i == 0) | (i == 1) | (nums[i-2] != num):\n",
    "                nums[i] = num\n",
    "                i += 1\n",
    "        return i"
   ]
  },
  {
   "cell_type": "code",
   "execution_count": 110,
   "metadata": {},
   "outputs": [
    {
     "data": {
      "text/plain": [
       "7"
      ]
     },
     "execution_count": 110,
     "metadata": {},
     "output_type": "execute_result"
    }
   ],
   "source": [
    "solution = Solution()\n",
    "solution.removeDuplicates([0,0,1,1,1,1,2,3,3])"
   ]
  },
  {
   "cell_type": "code",
   "execution_count": 111,
   "metadata": {},
   "outputs": [
    {
     "data": {
      "text/plain": [
       "5"
      ]
     },
     "execution_count": 111,
     "metadata": {},
     "output_type": "execute_result"
    }
   ],
   "source": [
    "solution = Solution()\n",
    "solution.removeDuplicates([1,1,1,2,2,3])"
   ]
  },
  {
   "cell_type": "code",
   "execution_count": 112,
   "metadata": {},
   "outputs": [
    {
     "data": {
      "text/plain": [
       "1"
      ]
     },
     "execution_count": 112,
     "metadata": {},
     "output_type": "execute_result"
    }
   ],
   "source": [
    "solution = Solution()\n",
    "solution.removeDuplicates([1])"
   ]
  },
  {
   "cell_type": "code",
   "execution_count": null,
   "metadata": {},
   "outputs": [],
   "source": []
  }
 ],
 "metadata": {
  "kernelspec": {
   "display_name": "venv",
   "language": "python",
   "name": "python3"
  },
  "language_info": {
   "codemirror_mode": {
    "name": "ipython",
    "version": 3
   },
   "file_extension": ".py",
   "mimetype": "text/x-python",
   "name": "python",
   "nbconvert_exporter": "python",
   "pygments_lexer": "ipython3",
   "version": "3.12.3"
  }
 },
 "nbformat": 4,
 "nbformat_minor": 2
}
