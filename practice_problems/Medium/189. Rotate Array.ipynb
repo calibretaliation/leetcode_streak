{
 "cells": [
  {
   "cell_type": "markdown",
   "metadata": {},
   "source": [
    "# 189. Rotate Array\n",
    "\n",
    "Given an integer array `nums`, rotate the array to the right by `k` steps, where `k` is non-negative.\n",
    "\n",
    "## Example\n",
    "> Example 1: <br>\n",
    "Input: `nums = [1,2,3,4,5,6,7]`, `k = 3` <br>\n",
    "Output: `[5,6,7,1,2,3,4]` <br>\n",
    "Explanation: <br>\n",
    "rotate 1 steps to the right: `[7,1,2,3,4,5,6]` <br>\n",
    "rotate 2 steps to the right: `[6,7,1,2,3,4,5]` <br>\n",
    "rotate 3 steps to the right: `[5,6,7,1,2,3,4]` <br>\n",
    "\n",
    ">Example 2: <br>\n",
    "Input: `nums = [-1,-100,3,99]`, `k = 2` <br>\n",
    "Output: `[3,99,-1,-100]` <br>\n",
    "Explanation:  <br>|\n",
    "rotate 1 steps to the right: `[99,-1,-100,3]` <br>\n",
    "rotate 2 steps to the right: `[3,99,-1,-100]` <br>\n",
    " \n"
   ]
  },
  {
   "cell_type": "code",
   "execution_count": null,
   "metadata": {},
   "outputs": [],
   "source": [
    "from typing import List\n",
    "\n",
    "\n",
    "class Solution:\n",
    "    def rotate(self, nums: List[int], k: int) -> None:\n",
    "        \"\"\"\n",
    "        Do not return anything, modify nums in-place instead.\n",
    "        \"\"\"\n",
    "        for i in range(k):\n",
    "            nums.insert(0, nums[-1])       \n",
    "            nums.pop()\n"
   ]
  },
  {
   "cell_type": "code",
   "execution_count": 66,
   "metadata": {},
   "outputs": [],
   "source": [
    "from typing import List\n",
    "\n",
    "\n",
    "class Solution:\n",
    "    def rotate(self, nums: List[int], k: int) -> None:\n",
    "        \"\"\"\n",
    "        Do not return anything, modify nums in-place instead.\n",
    "        \"\"\"\n",
    "        k = k%len(nums)\n",
    "        nums.reverse()\n",
    "        nums[:k] = reversed(nums[:k])\n",
    "        nums[k:] = reversed(nums[k:])\n",
    "        print(nums)"
   ]
  },
  {
   "cell_type": "code",
   "execution_count": 67,
   "metadata": {},
   "outputs": [
    {
     "name": "stdout",
     "output_type": "stream",
     "text": [
      "[2, 1]\n"
     ]
    }
   ],
   "source": [
    "solution = Solution()\n",
    "solution.rotate([1,2], 3)"
   ]
  },
  {
   "cell_type": "code",
   "execution_count": 44,
   "metadata": {},
   "outputs": [
    {
     "data": {
      "text/plain": [
       "2"
      ]
     },
     "execution_count": 44,
     "metadata": {},
     "output_type": "execute_result"
    }
   ],
   "source": [
    "7%5"
   ]
  },
  {
   "cell_type": "code",
   "execution_count": null,
   "metadata": {},
   "outputs": [],
   "source": []
  }
 ],
 "metadata": {
  "kernelspec": {
   "display_name": "venv",
   "language": "python",
   "name": "python3"
  },
  "language_info": {
   "codemirror_mode": {
    "name": "ipython",
    "version": 3
   },
   "file_extension": ".py",
   "mimetype": "text/x-python",
   "name": "python",
   "nbconvert_exporter": "python",
   "pygments_lexer": "ipython3",
   "version": "3.12.3"
  }
 },
 "nbformat": 4,
 "nbformat_minor": 2
}
